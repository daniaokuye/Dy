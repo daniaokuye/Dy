{
 "cells": [
  {
   "cell_type": "markdown",
   "metadata": {},
   "source": [
    "#### check the distribution of model"
   ]
  },
  {
   "cell_type": "code",
   "execution_count": null,
   "metadata": {},
   "outputs": [],
   "source": [
    "import pickle,os,sys\n",
    "import mxnet as mx\n",
    "sys.path.append('../layers')\n",
    "# from params import gls\n",
    "mask=\"vggs/vgg_mask.pkls\"\n",
    "param=\"vggs/vgg.models\""
   ]
  },
  {
   "cell_type": "markdown",
   "metadata": {},
   "source": [
    "### 1. check info of mask"
   ]
  },
  {
   "cell_type": "code",
   "execution_count": 3,
   "metadata": {},
   "outputs": [
    {
     "name": "stdout",
     "output_type": "stream",
     "text": [
      "selected key: ['sequential0_conv0_weight', 'sequential0_conv1_weight']\n",
      "mask: {'sequential0_conv0_weightgpu0': 1, 'sequential0_conv1_weightgpu0': 1}\n"
     ]
    }
   ],
   "source": [
    "from params import global_param\n",
    "global_param.load_param(mask, ctx=mx.gpu())\n",
    "key=global_param.selected_key['total']\n",
    "print 'selected key:',key\n",
    "print 'mask:',global_param.netMask"
   ]
  },
  {
   "cell_type": "code",
   "execution_count": 4,
   "metadata": {},
   "outputs": [
    {
     "ename": "AttributeError",
     "evalue": "'int' object has no attribute 'shape'",
     "traceback": [
      "\u001b[0;31m---------------------------------------------------------------------------\u001b[0m",
      "\u001b[0;31mAttributeError\u001b[0m                            Traceback (most recent call last)",
      "\u001b[0;32m<ipython-input-4-72f54a65f42d>\u001b[0m in \u001b[0;36m<module>\u001b[0;34m()\u001b[0m\n\u001b[1;32m      1\u001b[0m \u001b[0mMask\u001b[0m \u001b[0;34m=\u001b[0m \u001b[0mglobal_param\u001b[0m\u001b[0;34m.\u001b[0m\u001b[0mnetMask\u001b[0m\u001b[0;34m\u001b[0m\u001b[0m\n\u001b[1;32m      2\u001b[0m \u001b[0;32mfor\u001b[0m \u001b[0mk\u001b[0m\u001b[0;34m,\u001b[0m\u001b[0mv\u001b[0m \u001b[0;32min\u001b[0m \u001b[0mMask\u001b[0m\u001b[0;34m.\u001b[0m\u001b[0mitems\u001b[0m\u001b[0;34m(\u001b[0m\u001b[0;34m)\u001b[0m\u001b[0;34m:\u001b[0m\u001b[0;34m\u001b[0m\u001b[0m\n\u001b[0;32m----> 3\u001b[0;31m     \u001b[0mshape\u001b[0m\u001b[0;34m=\u001b[0m\u001b[0mv\u001b[0m\u001b[0;34m.\u001b[0m\u001b[0mshape\u001b[0m\u001b[0;34m\u001b[0m\u001b[0m\n\u001b[0m\u001b[1;32m      4\u001b[0m     \u001b[0mvv\u001b[0m \u001b[0;34m=\u001b[0m \u001b[0mv\u001b[0m\u001b[0;34m.\u001b[0m\u001b[0mreshape\u001b[0m\u001b[0;34m(\u001b[0m\u001b[0mshape\u001b[0m\u001b[0;34m[\u001b[0m\u001b[0;34m:\u001b[0m\u001b[0;36m2\u001b[0m\u001b[0;34m]\u001b[0m\u001b[0;34m+\u001b[0m\u001b[0;34m[\u001b[0m\u001b[0;34m-\u001b[0m\u001b[0;36m1\u001b[0m\u001b[0;34m]\u001b[0m\u001b[0;34m)\u001b[0m\u001b[0;34m\u001b[0m\u001b[0m\n\u001b[1;32m      5\u001b[0m     \u001b[0;31m#vv = nd.sum(vv,axis=2)\u001b[0m\u001b[0;34m\u001b[0m\u001b[0;34m\u001b[0m\u001b[0m\n",
      "\u001b[0;31mAttributeError\u001b[0m: 'int' object has no attribute 'shape'"
     ],
     "output_type": "error"
    }
   ],
   "source": [
    "Mask = global_param.netMask\n",
    "for k,v in Mask.items():\n",
    "    shape=v.shape\n",
    "    vv = v.reshape(shape[:2]+[-1])\n",
    "    #vv = nd.sum(vv,axis=2)\n",
    "    print vv.shape"
   ]
  },
  {
   "cell_type": "markdown",
   "metadata": {},
   "source": [
    "### 2. check params in model"
   ]
  },
  {
   "cell_type": "code",
   "execution_count": 6,
   "metadata": {},
   "outputs": [
    {
     "name": "stdout",
     "output_type": "stream",
     "text": [
      "['net.2.weight', 'net.0.4.4.bias', 'net.0.1.0.weight', 'net.0.4.4.weight', 'net.0.3.0.weight', 'net.0.3.2.weight', 'net.0.2.4.bias', 'net.0.3.2.bias', 'net.0.4.0.weight', 'net.0.2.4.weight', 'net.0.3.0.bias', 'net.4.bias', 'net.4.weight', 'net.6.bias', 'net.0.4.2.weight', 'net.0.2.2.bias', 'net.0.3.4.weight', 'net.0.1.0.bias', 'net.6.weight', 'net.0.0.0.bias', 'net.0.2.0.bias', 'net.0.4.0.bias', 'net.0.0.0.weight', 'net.0.4.2.bias', 'net.0.3.4.bias', 'net.2.bias', 'net.0.2.0.weight', 'net.0.2.2.weight']\n"
     ]
    }
   ],
   "source": [
    "from mxnet import nd\n",
    "\n",
    "def mean_std(v):\n",
    "    sum = nd.sum(v)\n",
    "    n_count = nd.sum(v != 0)\n",
    "    mean = sum / n_count\n",
    "    std = nd.sum(v ** 2) - n_count * (mean ** 2)\n",
    "    std = nd.sqrt(std / n_count)\n",
    "    return mean, std\n",
    "\n",
    "W = nd.load(param)\n",
    "# for key,value in W.items():\n",
    "#     mu,std = mean_std(value)\n",
    "#     print key,mu,std\n",
    "print W.keys()"
   ]
  },
  {
   "cell_type": "code",
   "execution_count": 5,
   "metadata": {},
   "outputs": [],
   "source": [
    "import sys\n",
    "sys.path.append('..')\n",
    "from layers import sphere_net\n",
    "from vgg import vgg"
   ]
  },
  {
   "cell_type": "code",
   "execution_count": 7,
   "metadata": {},
   "outputs": [
    {
     "name": "stdout",
     "output_type": "stream",
     "text": [
      "Help on function check_kernel_nums in module layers.sphere_net:\n",
      "\n",
      "check_kernel_nums(loaded_param=None, loaded_model=None)\n",
      "\n"
     ]
    }
   ],
   "source": [
    "help(sphere_net.check_kernel_nums)"
   ]
  },
  {
   "cell_type": "code",
   "execution_count": 6,
   "metadata": {},
   "outputs": [
    {
     "ename": "TypeError",
     "evalue": "check_kernel_nums() got multiple values for keyword argument 'loaded_param'",
     "traceback": [
      "\u001b[0;31m---------------------------------------------------------------------------\u001b[0m",
      "\u001b[0;31mTypeError\u001b[0m                                 Traceback (most recent call last)",
      "\u001b[0;32m<ipython-input-6-f55555f063e1>\u001b[0m in \u001b[0;36m<module>\u001b[0;34m()\u001b[0m\n\u001b[1;32m      1\u001b[0m \u001b[0mnet\u001b[0m \u001b[0;34m=\u001b[0m \u001b[0mvgg\u001b[0m\u001b[0;34m(\u001b[0m\u001b[0;34m)\u001b[0m\u001b[0;34m\u001b[0m\u001b[0m\n\u001b[0;32m----> 2\u001b[0;31m \u001b[0msphere_net\u001b[0m\u001b[0;34m.\u001b[0m\u001b[0mcheck_kernel_nums\u001b[0m\u001b[0;34m(\u001b[0m\u001b[0mnet\u001b[0m\u001b[0;34m,\u001b[0m\u001b[0mloaded_param\u001b[0m\u001b[0;34m=\u001b[0m\u001b[0mmask\u001b[0m\u001b[0;34m,\u001b[0m\u001b[0mloaded_model\u001b[0m\u001b[0;34m=\u001b[0m\u001b[0mparam\u001b[0m\u001b[0;34m)\u001b[0m\u001b[0;34m\u001b[0m\u001b[0m\n\u001b[0m",
      "\u001b[0;31mTypeError\u001b[0m: check_kernel_nums() got multiple values for keyword argument 'loaded_param'"
     ],
     "output_type": "error"
    }
   ],
   "source": [
    "net = vgg()\n",
    "sphere_net.check_kernel_nums(net,loaded_param=mask,loaded_model=param)"
   ]
  },
  {
   "cell_type": "code",
   "execution_count": null,
   "metadata": {},
   "outputs": [],
   "source": []
  }
 ],
 "metadata": {
  "kernelspec": {
   "display_name": "Python 2",
   "language": "python",
   "name": "python2"
  },
  "language_info": {
   "codemirror_mode": {
    "name": "ipython",
    "version": 2
   },
   "file_extension": ".py",
   "mimetype": "text/x-python",
   "name": "python",
   "nbconvert_exporter": "python",
   "pygments_lexer": "ipython2",
   "version": "2.7.12"
  }
 },
 "nbformat": 4,
 "nbformat_minor": 2
}
